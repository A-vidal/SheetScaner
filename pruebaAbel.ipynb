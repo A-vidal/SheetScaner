{
 "cells": [
  {
   "cell_type": "markdown",
   "metadata": {},
   "source": [
    "# Doc Scanner"
   ]
  },
  {
   "cell_type": "code",
   "execution_count": 1,
   "metadata": {},
   "outputs": [],
   "source": [
    "import src.scan as scan"
   ]
  },
  {
   "cell_type": "markdown",
   "metadata": {},
   "source": [
    "### Escaner\n"
   ]
  },
  {
   "cell_type": "code",
   "execution_count": 2,
   "metadata": {},
   "outputs": [],
   "source": [
    "scanner = scan.DocScanner()"
   ]
  },
  {
   "cell_type": "code",
   "execution_count": 3,
   "metadata": {},
   "outputs": [
    {
     "name": "stdout",
     "output_type": "stream",
     "text": [
      "Proccessed partitura.jpg\n"
     ]
    }
   ],
   "source": [
    "scanner.scan(\"./SheetScaner/partitura.jpg\")  "
   ]
  },
  {
   "cell_type": "code",
   "execution_count": 10,
   "metadata": {},
   "outputs": [
    {
     "ename": "AttributeError",
     "evalue": "'str' object has no attribute 'shape'",
     "output_type": "error",
     "traceback": [
      "\u001b[1;31m---------------------------------------------------------------------------\u001b[0m",
      "\u001b[1;31mAttributeError\u001b[0m                            Traceback (most recent call last)",
      "Cell \u001b[1;32mIn[10], line 1\u001b[0m\n\u001b[1;32m----> 1\u001b[0m \u001b[43mscanner\u001b[49m\u001b[38;5;241;43m.\u001b[39;49m\u001b[43mget_corners\u001b[49m\u001b[43m(\u001b[49m\u001b[38;5;124;43m\"\u001b[39;49m\u001b[38;5;124;43m./CodigoCopiado/sample_images/desk.JPG\u001b[39;49m\u001b[38;5;124;43m\"\u001b[39;49m\u001b[43m)\u001b[49m\n",
      "File \u001b[1;32mc:\\Users\\Usuario\\OneDrive\\Documentos\\UPV\\3_Grado\\Imagen\\proyecto\\src\\scan.py:98\u001b[0m, in \u001b[0;36mDocScanner.get_corners\u001b[1;34m(self, img)\u001b[0m\n\u001b[0;32m     91\u001b[0m \u001b[38;5;28;01mdef\u001b[39;00m \u001b[38;5;21mget_corners\u001b[39m(\u001b[38;5;28mself\u001b[39m, img):\n\u001b[0;32m     92\u001b[0m \u001b[38;5;250m    \u001b[39m\u001b[38;5;124;03m\"\"\"\u001b[39;00m\n\u001b[0;32m     93\u001b[0m \u001b[38;5;124;03m    Returns a list of corners ((x, y) tuples) found in the input image. With proper\u001b[39;00m\n\u001b[0;32m     94\u001b[0m \u001b[38;5;124;03m    pre-processing and filtering, it should output at most 10 potential corners.\u001b[39;00m\n\u001b[0;32m     95\u001b[0m \u001b[38;5;124;03m    This is a utility function used by get_contours. The input image is expected \u001b[39;00m\n\u001b[0;32m     96\u001b[0m \u001b[38;5;124;03m    to be rescaled and Canny filtered prior to be passed in.\u001b[39;00m\n\u001b[0;32m     97\u001b[0m \u001b[38;5;124;03m    \"\"\"\u001b[39;00m\n\u001b[1;32m---> 98\u001b[0m     lines \u001b[38;5;241m=\u001b[39m \u001b[43mlsd\u001b[49m\u001b[43m(\u001b[49m\u001b[43mimg\u001b[49m\u001b[43m)\u001b[49m\n\u001b[0;32m    100\u001b[0m     \u001b[38;5;66;03m# massages the output from LSD\u001b[39;00m\n\u001b[0;32m    101\u001b[0m     \u001b[38;5;66;03m# LSD operates on edges. One \"line\" has 2 edges, and so we need to combine the edges back into lines\u001b[39;00m\n\u001b[0;32m    102\u001b[0m     \u001b[38;5;66;03m# 1. separate out the lines into horizontal and vertical lines.\u001b[39;00m\n\u001b[1;32m   (...)\u001b[0m\n\u001b[0;32m    107\u001b[0m     \u001b[38;5;66;03m# 6. Repeat for vertical lines\u001b[39;00m\n\u001b[0;32m    108\u001b[0m     \u001b[38;5;66;03m# 7. Draw all the final lines onto another canvas. Where the lines overlap are also corners\u001b[39;00m\n\u001b[0;32m    110\u001b[0m     corners \u001b[38;5;241m=\u001b[39m []\n",
      "File \u001b[1;32mc:\\Users\\Usuario\\OneDrive\\Documentos\\UPV\\3_Grado\\Imagen\\proyecto\\sheet\\Lib\\site-packages\\pylsd\\lsd.py:15\u001b[0m, in \u001b[0;36mlsd\u001b[1;34m(src)\u001b[0m\n\u001b[0;32m     14\u001b[0m \u001b[38;5;28;01mdef\u001b[39;00m \u001b[38;5;21mlsd\u001b[39m(src):\n\u001b[1;32m---> 15\u001b[0m     rows, cols \u001b[38;5;241m=\u001b[39m \u001b[43msrc\u001b[49m\u001b[38;5;241;43m.\u001b[39;49m\u001b[43mshape\u001b[49m\n\u001b[0;32m     16\u001b[0m     src \u001b[38;5;241m=\u001b[39m src\u001b[38;5;241m.\u001b[39mreshape(\u001b[38;5;241m1\u001b[39m, rows \u001b[38;5;241m*\u001b[39m cols)\u001b[38;5;241m.\u001b[39mtolist()[\u001b[38;5;241m0\u001b[39m]\n\u001b[0;32m     18\u001b[0m     lens \u001b[38;5;241m=\u001b[39m \u001b[38;5;28mlen\u001b[39m(src)\n",
      "\u001b[1;31mAttributeError\u001b[0m: 'str' object has no attribute 'shape'"
     ]
    }
   ],
   "source": [
    "scanner."
   ]
  },
  {
   "cell_type": "code",
   "execution_count": null,
   "metadata": {},
   "outputs": [],
   "source": []
  }
 ],
 "metadata": {
  "kernelspec": {
   "display_name": "imag",
   "language": "python",
   "name": "python3"
  },
  "language_info": {
   "codemirror_mode": {
    "name": "ipython",
    "version": 3
   },
   "file_extension": ".py",
   "mimetype": "text/x-python",
   "name": "python",
   "nbconvert_exporter": "python",
   "pygments_lexer": "ipython3",
   "version": "3.11.4"
  }
 },
 "nbformat": 4,
 "nbformat_minor": 2
}
