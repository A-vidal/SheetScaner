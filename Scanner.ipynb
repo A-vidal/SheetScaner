{
 "cells": [
  {
   "cell_type": "markdown",
   "id": "81ad01ee",
   "metadata": {},
   "source": [
    "# Trabajo final - Escaneador de documentos"
   ]
  },
  {
   "cell_type": "markdown",
   "id": "193b5f76",
   "metadata": {},
   "source": [
    "**Alumnos:** Borja Sanchis Tomás y Abel Vidal Ripoll"
   ]
  },
  {
   "cell_type": "markdown",
   "id": "0e089749",
   "metadata": {},
   "source": [
    "Explicación de que trata el trabajo, resumen del funcionamiento y objetivos del proyecto."
   ]
  },
  {
   "cell_type": "markdown",
   "id": "19c3cdc0",
   "metadata": {},
   "source": [
    "Explicación de los paquetes importados \n",
    "\n",
    "* numpy: jasfkkafbkafbj\n",
    "*"
   ]
  },
  {
   "cell_type": "code",
   "execution_count": null,
   "id": "f0c5a5bd",
   "metadata": {},
   "outputs": [],
   "source": [
    "from pyimagesearch import transform\n",
    "from pyimagesearch import imutils\n",
    "from scipy.spatial import distance as dist\n",
    "import numpy as np\n",
    "import matplotlib.pyplot as plt\n",
    "import itertools\n",
    "import math\n",
    "import cv2\n",
    "from pylsd.lsd import lsd\n",
    "import os"
   ]
  },
  {
   "cell_type": "markdown",
   "id": "d9619446",
   "metadata": {},
   "source": [
    "### Escanear documento\n",
    "\n",
    "Con estas celdas iremos explicando paso a paso el proceso para poder escanear correctamente un documento"
   ]
  },
  {
   "cell_type": "code",
   "execution_count": null,
   "id": "81695eda",
   "metadata": {},
   "outputs": [],
   "source": [
    "image_path = \"sample_images\\partitura2.jpg\"\n",
    "RESCALED_HEIGHT = 500.0\n",
    "OUTPUT_DIR = 'scaned'\n",
    "\n",
    "image = cv2.cvtColor(cv2.imread(image_path), cv2.COLOR_BGR2RGB)\n",
    "_=plt.imshow(image)"
   ]
  },
  {
   "cell_type": "markdown",
   "id": "b7661ee0",
   "metadata": {},
   "source": [
    "Definimos la ruta del fichero que vamos a escanear y rescalamos su altura, definimos la ruta de donde se guardará el fichero escaneado más adelante. Luego cargamos la imagen y la visualizamos"
   ]
  },
  {
   "cell_type": "code",
   "execution_count": null,
   "id": "0ded64bc",
   "metadata": {},
   "outputs": [],
   "source": [
    "ratio = image.shape[0] / RESCALED_HEIGHT\n",
    "orig = image.copy()\n",
    "rescaled_image = imutils.resize(image, height = int(RESCALED_HEIGHT))"
   ]
  },
  {
   "cell_type": "markdown",
   "id": "f1f5196c",
   "metadata": {},
   "source": [
    "Calculamos la proporción de reescalado para la altura de la imagen, hacemos una copia de la imagen original, y luego reescalamos la imagen a la altura deseada manteniendo la proporción. En este caso la imagen no hay que reescalar mucho la imagen, en la siguiente imagen vereis que la imagen se ha reescalado con éxito"
   ]
  },
  {
   "cell_type": "code",
   "execution_count": null,
   "id": "05d28af0",
   "metadata": {},
   "outputs": [],
   "source": [
    "MORPH = 9\n",
    "CANNY = 84\n",
    "HOUGH = 25\n",
    "IM_HEIGHT, IM_WIDTH, _ = rescaled_image.shape\n",
    "gray = cv2.cvtColor(rescaled_image, cv2.COLOR_RGB2GRAY)\n",
    "_=plt.figure(figsize=(10, 5))\n",
    "plt.subplot(121)\n",
    "_=plt.imshow(gray,cmap='gray')\n",
    "_=plt.title('Imagen Gris')\n",
    "gray = cv2.GaussianBlur(gray, (7,7), 0)\n",
    "plt.subplot(122)\n",
    "_=plt.imshow(gray,cmap='gray')\n",
    "_=plt.title('Imagen Gris y difuminada')"
   ]
  },
  {
   "cell_type": "markdown",
   "id": "3fe42abc",
   "metadata": {},
   "source": [
    "Definimos unas constantes y obtenemos la constante de altura y anchura que nos serviran a futuro, luego la pasamos a grises y difuminamos con filtro gaussiano. Esto es bastante util porque al escanear es infinitamente más sencillo escanear en escala de grises y al difuminar reducimos el ruido y nos ayuda a detectar mejor los bordes"
   ]
  },
  {
   "cell_type": "code",
   "execution_count": null,
   "id": "fdf21915",
   "metadata": {},
   "outputs": [],
   "source": [
    "kernel = cv2.getStructuringElement(cv2.MORPH_RECT,(MORPH,MORPH))\n",
    "\n",
    "dilated = cv2.morphologyEx(gray, cv2.MORPH_CLOSE, kernel)\n",
    "_=plt.imshow(dilated,cmap=\"gray\")"
   ]
  },
  {
   "cell_type": "markdown",
   "id": "45c6e7ca",
   "metadata": {},
   "source": [
    "Creamos una estructura rectangular del tamaño definido antes MORPH, esta estructura es la que usaremos para dilatar la imagen en escala de grises y difuminada, la dilatación ayuda a eliminar posibles agujeros entre segmentos de borde. Esto nos sirve para una deteccion del contorno más precisa."
   ]
  },
  {
   "cell_type": "code",
   "execution_count": null,
   "id": "a3b5ed89",
   "metadata": {},
   "outputs": [],
   "source": [
    "edged = cv2.Canny(dilated, 0, CANNY)\n",
    "_=plt.imshow(edged,cmap=\"gray\")"
   ]
  },
  {
   "cell_type": "markdown",
   "id": "e04839f7",
   "metadata": {},
   "source": [
    "Usando el algoritmo CANNY usado en la práctica x obtenemos los bordes, como se muestra en la imagen es un algoritmo que funciona muy bien, los bordes del folio se han detectado correctamente."
   ]
  },
  {
   "cell_type": "code",
   "execution_count": null,
   "id": "41111701",
   "metadata": {},
   "outputs": [],
   "source": [
    "lines = lsd(edged)\n",
    "corners = []\n",
    "# Separar lineas hirozntales de lsas verticales y guardarlas en canvas distintos\n",
    "lines = lines.squeeze().astype(np.int32).tolist()\n",
    "horizontal_lines_canvas = np.zeros(edged.shape, dtype=np.uint8)\n",
    "vertical_lines_canvas = np.zeros(edged.shape, dtype=np.uint8)\n",
    "for line in lines:\n",
    "    x1, y1, x2, y2, _ = line\n",
    "    if abs(x2 - x1) > abs(y2 - y1):\n",
    "        (x1, y1), (x2, y2) = sorted(((x1, y1), (x2, y2)), key=lambda pt: pt[0])\n",
    "        cv2.line(horizontal_lines_canvas, (max(x1 - 5, 0), y1), (min(x2 + 5, edged.shape[1] - 1), y2), 255, 2)\n",
    "    else:\n",
    "        (x1, y1), (x2, y2) = sorted(((x1, y1), (x2, y2)), key=lambda pt: pt[1])\n",
    "        cv2.line(vertical_lines_canvas, (x1, max(y1 - 5, 0)), (x2, min(y2 + 5, edged.shape[0] - 1)), 255, 2)\n",
    "_=plt.figure(figsize=(10, 5))\n",
    "plt.subplot(121)\n",
    "_=plt.imshow(vertical_lines_canvas,cmap='gray')\n",
    "plt.subplot(122)\n",
    "_=plt.imshow(horizontal_lines_canvas,cmap='gray')"
   ]
  },
  {
   "cell_type": "markdown",
   "id": "ffa38f4b",
   "metadata": {},
   "source": [
    "Utilizando el algoritmo de Detección de Segmentos de Línea (LSD) conseguimos que todas las líneas detectadas se separan en líneas horizontales y verticales, esto lo conseguimos con la conficion **if abs(x2-x1) > abs(y2-y1)**, ¿como podemos diferenciar si es horizontal o vertical? Muy fácil, si la diferencia de coordenadas x es mayor que la difernecia de coordenadas y significa que la linea que vemos es horizontal, y luego la dibujamos en el lienzo, si no es asi, es decir, que la resta de x es menor que la resta de y, la linea y (vertical) es más grande por lo que la linea será vertical.\n",
    "Por último guardamos en un lienzo cada tipo de linea(horizontal y vertical) y mostramos las dos"
   ]
  },
  {
   "cell_type": "code",
   "execution_count": null,
   "id": "44ba9d93",
   "metadata": {},
   "outputs": [],
   "source": [
    "lines = []\n",
    "# Encontrar lineas horizontales (connected-components -> bounding boxes -> final lines)\n",
    "(contours, hierarchy) = cv2.findContours(horizontal_lines_canvas, cv2.RETR_EXTERNAL, cv2.CHAIN_APPROX_NONE)\n",
    "contours = sorted(contours, key=lambda c: cv2.arcLength(c, True), reverse=True)[:2]\n",
    "horizontal_lines_canvas = np.zeros(edged.shape, dtype=np.uint8)\n",
    "for contour in contours:\n",
    "    contour = contour.reshape((contour.shape[0], contour.shape[2]))\n",
    "    min_x = np.amin(contour[:, 0], axis=0) + 2\n",
    "    max_x = np.amax(contour[:, 0], axis=0) - 2\n",
    "    left_y = int(np.average(contour[contour[:, 0] == min_x][:, 1]))\n",
    "    right_y = int(np.average(contour[contour[:, 0] == max_x][:, 1]))\n",
    "    lines.append((min_x, left_y, max_x, right_y))\n",
    "    cv2.line(horizontal_lines_canvas, (min_x, left_y), (max_x, right_y), 1, 1)\n",
    "    corners.append((min_x, left_y))\n",
    "    corners.append((max_x, right_y))\n",
    "    \n",
    "_=plt.imshow(horizontal_lines_canvas,cmap='gray')\n",
    "#Hacemos un print para observar que es una matriz binaria (0 negro y 1 blanco) \n",
    "print(vertical_lines_canvas[0:4])"
   ]
  },
  {
   "cell_type": "markdown",
   "id": "b16b5e75",
   "metadata": {},
   "source": [
    "Vamos a eliminar el ruido, para lograrlo tenemos que volver a trazar un lienzo sobre el lienzo de antes, pero esta vez delimitando sobre donde queremos dibujar, para lograr esto tenemos que marcar el máximo y minimo del eje x antes dibujado (Ya que al buscar escanear un documento las posibles lineas detectadas estaran siempre dentro del folio), cogemos el máximo y mínimo del contorno del eje x y ponemos un margen de error de +-2px. Con esto delimitamos la zona del nuevo lienzo solo a los contornos que se encuentren en el minimo de x y en el máximo. Viendo la imagen de antes vemos que todas las lineas horizontales de ruido no llegaban a los limites, por lo que ahora en el nuevo lienzo no las dibujamos."
   ]
  },
  {
   "cell_type": "code",
   "execution_count": null,
   "id": "fd1585fd",
   "metadata": {},
   "outputs": [],
   "source": [
    "# find the vertical lines (connected-components -> bounding boxes -> final lines)\n",
    "(contours, hierarchy) = cv2.findContours(vertical_lines_canvas, cv2.RETR_EXTERNAL, cv2.CHAIN_APPROX_NONE)\n",
    "contours = sorted(contours, key=lambda c: cv2.arcLength(c, True), reverse=True)[:2]\n",
    "vertical_lines_canvas = np.zeros(edged.shape, dtype=np.uint8)\n",
    "for contour in contours:\n",
    "    contour = contour.reshape((contour.shape[0], contour.shape[2]))\n",
    "    min_y = np.amin(contour[:, 1], axis=0) + 2\n",
    "    max_y = np.amax(contour[:, 1], axis=0) - 2\n",
    "    top_x = int(np.average(contour[contour[:, 1] == min_y][:, 0]))\n",
    "    bottom_x = int(np.average(contour[contour[:, 1] == max_y][:, 0]))\n",
    "    lines.append((top_x, min_y, bottom_x, max_y))\n",
    "    cv2.line(vertical_lines_canvas, (top_x, min_y), (bottom_x, max_y), 1, 1)\n",
    "    corners.append((top_x, min_y))\n",
    "    corners.append((bottom_x, max_y))\n",
    "_=plt.imshow(vertical_lines_canvas,cmap='gray')\n",
    "print(vertical_lines_canvas[0:4])"
   ]
  },
  {
   "cell_type": "markdown",
   "id": "192706ff",
   "metadata": {},
   "source": [
    "Realizamos el mismo proceso de antes pero esta vez con las lineas verticales"
   ]
  },
  {
   "cell_type": "code",
   "execution_count": null,
   "id": "0f33e9c2",
   "metadata": {},
   "outputs": [],
   "source": [
    "# find the corners\n",
    "corners_y, corners_x = np.where(horizontal_lines_canvas + vertical_lines_canvas == 2)\n",
    "corners += zip(corners_x, corners_y)"
   ]
  },
  {
   "cell_type": "markdown",
   "id": "64dae5e9",
   "metadata": {},
   "source": [
    "Sumamos las matrices de las lineas horizontales y verticales y donde los valores suman 2 es donde encontramos que se cruzan las lineas, la condicion **np.where** nos dice donde se cumple la condicion, en nuestro caso donde la suma vale 2, ya que al ser una matriz binaria cuando sume 2 significa que se cruzan esas lineas. Luego con **corners_y** y **corners_x** los combinamos en un iterable de tuplas. Cada tupla contiene un elemento de cada iterable, esto se hace con la función zip."
   ]
  },
  {
   "cell_type": "code",
   "execution_count": null,
   "id": "4ebcf45f",
   "metadata": {},
   "outputs": [],
   "source": [
    "def filter_corners(corners, min_dist=20):\n",
    "        \"\"\"Filtra las esquinas que están dentro de una distancia mínima de otras.\"\"\"\n",
    "        def predicate(representatives, corner):\n",
    "            return all(dist.euclidean(representative, corner) >= min_dist\n",
    "                       for representative in representatives)\n",
    "\n",
    "        filtered_corners = []\n",
    "        for c in corners:\n",
    "            if predicate(filtered_corners, c):\n",
    "                filtered_corners.append(c)\n",
    "        return filtered_corners\n",
    "test_corners = filter_corners(corners)"
   ]
  },
  {
   "cell_type": "markdown",
   "id": "0ef67fb8",
   "metadata": {},
   "source": [
    "Con la función **filter_corners** filtramos las esquinas que están demasiado cerca unas de otras, asegurando que cada esquina en la lista final está a al menos una distancia mínima (min_dist) de las demás. \n",
    "La función **predicate** comprueba mediante la distnacia euclidiana si la esquina **c**, está a una distancia mínima (**min_dist**) de todas las esquinas ya almacenadas en **filtered_corners**. Si la condición se cumple (es decir, si **predicate** devuelve True), entonces la esquina **c** se añade a la lista **filtered_corners**. Este proceso se repite para cada esquina en corners, de tal manera que al finalizar tendremos las 4 esquinas"
   ]
  },
  {
   "cell_type": "code",
   "execution_count": null,
   "id": "4e287045",
   "metadata": {},
   "outputs": [],
   "source": [
    "approx_contours = []\n",
    "\n",
    "if len(test_corners) >= 4:\n",
    "    quads = []\n",
    "\n",
    "    for quad in itertools.combinations(test_corners, 4):\n",
    "        points = np.array(quad)\n",
    "        points = transform.order_points(points)\n",
    "        points = np.array([[p] for p in points], dtype = \"int32\")\n",
    "        quads.append(points)"
   ]
  },
  {
   "cell_type": "markdown",
   "id": "62887993",
   "metadata": {},
   "source": [
    "En esta condición si hay al menos 4 esquinas en **test_corners** hacemos una condición en la que utilizamos **itertools.combinations** para generar todas las posibles combinaciones de 4 esquinas distintas de la lista test_corners. Cada combinación es una tupla de 4 puntos, luego guardamos esos puntos y por último ordenamos y reformateamos el orden y esos mismo puntos ordenados y reformateados se añaden a la lista **quads**. Esta lista almacenará todas las combinaciones de 4 puntos que forman cuadriláteros."
   ]
  },
  {
   "cell_type": "code",
   "execution_count": null,
   "id": "0a7a5ddb",
   "metadata": {},
   "outputs": [],
   "source": [
    "def angle_between_vectors_degrees(u, v):\n",
    "        \"\"\"Devuelve el ángulo entre dos vectores en grados.\"\"\"\n",
    "        return np.degrees(math.acos(np.dot(u, v) / (np.linalg.norm(u) * np.linalg.norm(v))))"
   ]
  },
  {
   "cell_type": "markdown",
   "id": "23dcfc7a",
   "metadata": {},
   "source": [
    "Con esta función logramos calcular el ángulo entre el vector avec y cvec que a su vez es una resta de los arrays de los cuadrilateros que más adelante entenderéis"
   ]
  },
  {
   "cell_type": "code",
   "execution_count": null,
   "id": "d73f320c",
   "metadata": {},
   "outputs": [],
   "source": [
    "def get_angle(p1, p2, p3):\n",
    "        \"\"\"\n",
    "        Devuelve el ángulo entre el segmento de línea desde p2 hasta p1 y el segmento de línea desde p2 hasta p3 en grados.\n",
    "        \"\"\"\n",
    "        a = np.radians(np.array(p1))\n",
    "        b = np.radians(np.array(p2))\n",
    "        c = np.radians(np.array(p3))\n",
    "\n",
    "        avec = a - b\n",
    "        cvec = c - b\n",
    "        \n",
    "\n",
    "        return angle_between_vectors_degrees(avec, cvec)"
   ]
  },
  {
   "cell_type": "markdown",
   "id": "a0f49d46",
   "metadata": {},
   "source": [
    "Esta función calcula el ángulo entre dos segmentos de línea dados por los puntos p1, p2 y p3. \n",
    "\n",
    "Primero, convierte las coordenadas de los puntos a radianes utilizando **np.radians**. Luego, calcula los vectores que representan estos segmentos de línea restando las coordenadas de los puntos. \n",
    "\n",
    "Finalmente, utiliza la función **angle_between_vectors_degrees** para calcular el ángulo entre estos dos vectores en grados y lo devuelve. "
   ]
  },
  {
   "cell_type": "code",
   "execution_count": null,
   "id": "5cc25720",
   "metadata": {},
   "outputs": [],
   "source": [
    "def angle_range(quad):\n",
    "        \"\"\"\n",
    "        Devuelve el rango entre los ángulos interiores máximo y mínimo de un cuadrilátero. \n",
    "        El cuadrilátero de entrada debe ser un array de NumPy con vértices ordenados en sentido horario \n",
    "        comenzando por el vértice superior izquierdo\n",
    "        \"\"\"\n",
    "        tl, tr, br, bl = quad\n",
    "        ura = get_angle(tl[0], tr[0], br[0])\n",
    "        ula = get_angle(bl[0], tl[0], tr[0])\n",
    "        lra = get_angle(tr[0], br[0], bl[0])\n",
    "        lla = get_angle(br[0], bl[0], tl[0])\n",
    "\n",
    "        angles = [ura, ula, lra, lla]\n",
    "        return np.ptp(angles)      "
   ]
  },
  {
   "cell_type": "markdown",
   "id": "f308b5f2",
   "metadata": {},
   "source": [
    "Esta función calcula el rango entre los ángulos máximo y mínimo en un cuadrilátero dado. \n",
    "\n",
    "Primero, se extraen los vértices del cuadrilátero, y luego se calculan los ángulos interiores entre segmentos de línea adyacentes utilizando la función **get_angle**, que retorna el ángulo en grados. Estos ángulos se almacenan en una lista. \n",
    "\n",
    "Finalmente, se calcula el rango entre el ángulo máximo y el mínimo utilizando la función **np.ptp**, que devuelve la diferencia entre el valor máximo y mínimo de una matriz o lista. El resultado final es el rango entre los ángulos máximo y mínimo en el cuadrilátero."
   ]
  },
  {
   "cell_type": "code",
   "execution_count": null,
   "id": "87a31f8d",
   "metadata": {},
   "outputs": [],
   "source": [
    "# Obtener los cinco cuadriláteros principales por área.\n",
    "quads = sorted(quads, key=cv2.contourArea, reverse=True)[:5]\n",
    "# Ordenar los cuadriláteros candidatos por su rango de ángulo, lo que ayuda a eliminar valores atípicos.\n",
    "quads = sorted(quads, key=angle_range)"
   ]
  },
  {
   "cell_type": "markdown",
   "id": "c505be23",
   "metadata": {},
   "source": [
    "Seleccionamos los cinco cuadriláteros principales basados en su área y luego ordenamos los cuadriláteros candidatos según su rango de ángulo. En la primera línea, utilizamos la función **cv2.contourArea** para calcular el área de cada cuadrilátero en la lista **quads** previamente obtenida, luego los ordenamos de mayor a menor área. \n",
    "Seleccionamos solamente los cinco cuadriláteros con las áreas más grandes. \n",
    "En la segunda línea, ordenamos los cuadriláteros restantes según su rango de ángulo utilizando la función **angle_range**, lo que nos ayuda a eliminar valores atípicos al priorizar aquellos con un rango de ángulo más pequeño."
   ]
  },
  {
   "cell_type": "code",
   "execution_count": null,
   "id": "a3e2ba58",
   "metadata": {},
   "outputs": [],
   "source": [
    "def is_valid_contour(cnt, IM_WIDTH, IM_HEIGHT):\n",
    "        \"\"\"Devuelve True si el contorno cumple con todos los requisitos establecidos en la creacion de instancias\"\"\"\n",
    "        return (len(cnt) == 4 and cv2.contourArea(cnt) > IM_WIDTH * IM_HEIGHT * MIN_QUAD_AREA_RATIO and angle_range(cnt) < MAX_QUAD_ANGLE_RANGE)\n",
    "\n",
    "MIN_QUAD_AREA_RATIO=0.25\n",
    "MAX_QUAD_ANGLE_RANGE=40\n",
    "approx = quads[0]\n",
    "if is_valid_contour(approx, IM_WIDTH, IM_HEIGHT):\n",
    "    approx_contours.append(approx)\n",
    "    \n",
    "cv2.drawContours(rescaled_image, [approx], -1, (20, 20, 255), 2)\n",
    "plt.scatter(*zip(*test_corners))\n",
    "plt.imshow(rescaled_image)\n",
    "plt.show()"
   ]
  },
  {
   "cell_type": "markdown",
   "id": "908e9fae",
   "metadata": {},
   "source": [
    "Como observamos las 4 esquinas se han detectado correctamente, aunque no es un proceso perfecto ya que por ejemplo al coger un folio doblado por las esquinas no uniremos siempre bien los puntos entre esquinas, aunque es un proceso bastante preciso, hemos elegido un folio doblado, con sombras y no centrado para ver el peor caso posible, y pese a eso ha hecho un muy buen trabajo."
   ]
  },
  {
   "cell_type": "code",
   "execution_count": null,
   "id": "5b2040f9",
   "metadata": {},
   "outputs": [
    {
     "name": "stdout",
     "output_type": "stream",
     "text": [
      "[[[ 1 -1 -1 -1]\n",
      "  [-1  0 -1 -1]]]\n"
     ]
    }
   ],
   "source": [
    "(cnts, hierarchy) = cv2.findContours(edged.copy(), cv2.RETR_EXTERNAL, cv2.CHAIN_APPROX_SIMPLE)\n",
    "cnts = sorted(cnts, key=cv2.contourArea, reverse=True)[:5]\n",
    "print(hierarchy)"
   ]
  },
  {
   "cell_type": "markdown",
   "id": "47239f99",
   "metadata": {},
   "source": [
    "Buscamos los contornos de edged visto arriba y nos devuelve una lista de los contornos encontrados y hierarchy nos devuelve una estructura de datos que describe la relación jerárquica entre los contornos, nos devuelve algo asi (hierarchy = [ [Next, Previous, First_Child, Parent] ]), esto nos dice si hay o no hay un contorno siguiente, anterior, o el nivel inferior de jerarquia y el nivel superior de jerarquia. Para entenderlo mejor pongamos un ejemplo.\n",
    "\n",
    "Por ejemplo, si hierarchy [i]= [2, -1, 4, -1], esto significa que:\n",
    "\n",
    "* El contorno i tiene como siguiente contorno al contorno 2.\n",
    "* No hay un contorno anterior (Previous es -1).\n",
    "* Tiene como primer hijo al contorno 4.\n",
    "* No tiene un contorno padre (Parent es -1).\n",
    "\n",
    "Esta información nos es muy útil para analizar la estructura jerárquica de los contornos, nos sirve para distinguir entre contornos exteriores e interiores."
   ]
  },
  {
   "cell_type": "code",
   "execution_count": null,
   "id": "5c6c828b",
   "metadata": {},
   "outputs": [],
   "source": [
    "# loop over the contours\n",
    "for c in cnts:\n",
    "    # approximate the contour\n",
    "    approx = cv2.approxPolyDP(c, 80, True)\n",
    "    if is_valid_contour(approx, IM_WIDTH, IM_HEIGHT):\n",
    "        approx_contours.append(approx)\n",
    "        break"
   ]
  },
  {
   "cell_type": "markdown",
   "id": "9186e605",
   "metadata": {},
   "source": [
    "Con este bucle recorremos los contornos y aproximamos con la funcion de **cv2.approxPolyDP**. Lo que hace esta función es simplificar los contornos eliminando rebundancia, por lo que perdemos vertices. Con el número 80 de la funcion marcamos la precisión, valor más grande significa una aproximación más simplificada, y el True nos indica que el contorno está cerrado (el primer punto y el último punto están conectados), esto nos es muy útil para asegurar que la aproximacion mantenga una forma rectangular (Ya que la gran mayorai de documentos escaneados son así). Por último verificamos si ese contorno es valido con la función **is_valid_contour** explicada con anterioridad"
   ]
  },
  {
   "cell_type": "code",
   "execution_count": null,
   "id": "78bfe45c",
   "metadata": {},
   "outputs": [],
   "source": [
    "# If we did not find any valid contours, just use the whole image\n",
    "if not approx_contours:\n",
    "    TOP_RIGHT = (IM_WIDTH, 0)\n",
    "    BOTTOM_RIGHT = (IM_WIDTH, IM_HEIGHT)\n",
    "    BOTTOM_LEFT = (0, IM_HEIGHT)\n",
    "    TOP_LEFT = (0, 0)\n",
    "    screenCnt = np.array([[TOP_RIGHT], [BOTTOM_RIGHT], [BOTTOM_LEFT], [TOP_LEFT]])\n",
    "else:\n",
    "    screenCnt = max(approx_contours, key=cv2.contourArea)\n",
    "screenCnt=screenCnt.reshape(4, 2)"
   ]
  },
  {
   "cell_type": "markdown",
   "id": "2a580f9e",
   "metadata": {},
   "source": [
    "Esta funcion lo que hace es que si contornos no se ha detectado (es 0), entonces creamos los contornos nosotros, en la que definimos que es toda la imagen, esto nos sirve si por ejemplo la foto la hemos hecho sin que se vean los bordes del folio, en ese caso escaneamos todo lo que se ve en la imagen."
   ]
  },
  {
   "cell_type": "code",
   "execution_count": null,
   "id": "77ed3493",
   "metadata": {},
   "outputs": [
    {
     "data": {
      "image/png": "[encoded data removed]",
      "text/plain": [
       "<Figure size 432x288 with 1 Axes>"
      ]
     },
     "metadata": {
      "needs_background": "light"
     },
     "output_type": "display_data"
    }
   ],
   "source": [
    "# apply the perspective transformation\n",
    "warped = transform.four_point_transform(orig, screenCnt * ratio)\n",
    "\n",
    "_=plt.imshow(warped)\n",
    "\n",
    "# convert the warped image to grayscale\n",
    "gray = cv2.cvtColor(warped, cv2.COLOR_RGB2GRAY)\n",
    "\n",
    "# sharpen image\n",
    "sharpen = cv2.GaussianBlur(gray, (0,0), 3)\n",
    "sharpen = cv2.addWeighted(gray, 1.5, sharpen, -0.5, 0)"
   ]
  },
  {
   "cell_type": "markdown",
   "id": "3f741b0d",
   "metadata": {},
   "source": [
    "Transformamos la imagen para que tenga la forma de los contornos y poder escanearla y con la función **four_point_transform** corregimos la perspectiva para obtener una vista rectificada de la imagen del documento, eliminando así, cualquier distorsión causada por ángulos, luego le aplicamos un filtro gausiano para emborronarla un poquito y eliminar posible ruido, y con **cv2.addWeighted** aumentamos su nitidez, ya que toma la imagen original con un peso de 1.5 y resta la imagen desenfocada con un peso de -0.5. Este proceso realza los bordes y detalles de la imagen, mejorando su claridad."
   ]
  },
  {
   "cell_type": "code",
   "execution_count": null,
   "id": "de8f9dff",
   "metadata": {},
   "outputs": [],
   "source": [
    "# Aplicamos threshhol adaptativo para ponerlo en blanco y negro\n",
    "thresh = cv2.adaptiveThreshold(sharpen, 255, cv2.ADAPTIVE_THRESH_GAUSSIAN_C, cv2.THRESH_BINARY, 31, 10)\n",
    "# Define the kernel for morphological operation\n",
    "kernel = np.array([[0, 1, 0],\n",
    "                   [1, 1, 1],\n",
    "                   [0, 1, 0]], dtype=np.uint8)\n",
    "# Aplicamos morfología para abrir la imagen\n",
    "#opened = cv2.morphologyEx(thresh, cv2.MORPH_OPEN, kernel)\n",
    "#blur = cv2.bilateralFilter(thresh,79,27,27)\n",
    "\n",
    "plt.title('Imagen Escaneada')\n",
    "plt.imshow(thresh, cmap=\"gray\")\n",
    "\n",
    "plt.show()\n",
    "\n",
    "# save the cropped transformed image\n",
    "basename = os.path.basename(image_path)\n",
    "cv2.imwrite(OUTPUT_DIR + '/' + basename, thresh)\n",
    "print(\"Se ha procesado \" + basename)"
   ]
  },
  {
   "cell_type": "markdown",
   "id": "b0100949",
   "metadata": {},
   "source": [
    "Por último \"escaneamos\" el documento recortado, aunque realmente escanear es un efecto visual, ya que solo lo pasamos a una imagen en binaria, que tiene de valores 255 o 0. Con los valores 35 y 10 tienen una vital importancia, y hemos ido probando diferentes valores para ver la importancia que tenia, hay que entender que 35 es el tamaño del bloque de píxeles vecinos utilizados para calcular el umbral local para cada píxel, mientras que 10 es una constante que se resta del valor calculado por el método.\n",
    "\n",
    "Hicimos pruebas con el blur ya que es un filtro que como vimos en las prácticas elimina ruido, a simple vista el ruido que teniamos si retamos el bloque es parecido, pero despues de aplicar el filtro vimos que no existe difrenecia alguna por lo que si no sirve, no se usa, aunque las pruebas estan ahí, para aprender.\n",
    "\n",
    "De todas las pruebas que hemos estado haciendo los valores más equilibrados es un tamaño de bloque de 35 y una resta de 10, queda un tamaño de bloque muy bueno para los pentagramas y la imagen se escanea sin casi ruido."
   ]
  }
 ],
 "metadata": {
  "kernelspec": {
   "display_name": "Python 3",
   "language": "python",
   "name": "python3"
  },
  "language_info": {
   "codemirror_mode": {
    "name": "ipython",
    "version": 3
   },
   "file_extension": ".py",
   "mimetype": "text/x-python",
   "name": "python",
   "nbconvert_exporter": "python",
   "pygments_lexer": "ipython3",
   "version": "3.11.4"
  }
 },
 "nbformat": 4,
 "nbformat_minor": 5
}
